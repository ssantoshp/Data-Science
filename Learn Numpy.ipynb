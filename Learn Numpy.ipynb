{
 "cells": [
  {
   "cell_type": "code",
   "execution_count": 1,
   "metadata": {},
   "outputs": [
    {
     "name": "stdout",
     "output_type": "stream",
     "text": [
      "[1 2 3]\n"
     ]
    }
   ],
   "source": [
    "import numpy as np\n",
    "a=np.array([1,2,3])\n",
    "print(a)"
   ]
  },
  {
   "cell_type": "code",
   "execution_count": 2,
   "metadata": {},
   "outputs": [
    {
     "name": "stdout",
     "output_type": "stream",
     "text": [
      "[3 5]\n"
     ]
    }
   ],
   "source": [
    "b=np.array((3,5))\n",
    "print(b)"
   ]
  },
  {
   "cell_type": "code",
   "execution_count": 3,
   "metadata": {},
   "outputs": [
    {
     "data": {
      "text/plain": [
       "2"
      ]
     },
     "execution_count": 3,
     "metadata": {},
     "output_type": "execute_result"
    }
   ],
   "source": [
    "a = np.array([[1,2,3], [4,5,6]])\n",
    "a.ndim"
   ]
  },
  {
   "cell_type": "code",
   "execution_count": 4,
   "metadata": {},
   "outputs": [
    {
     "data": {
      "text/plain": [
       "5"
      ]
     },
     "execution_count": 4,
     "metadata": {},
     "output_type": "execute_result"
    }
   ],
   "source": [
    "a[1,1]"
   ]
  },
  {
   "cell_type": "code",
   "execution_count": 7,
   "metadata": {},
   "outputs": [],
   "source": [
    "B = np.array([[1,2,4,9,1],[2,1,4,9,10]])"
   ]
  },
  {
   "cell_type": "code",
   "execution_count": 8,
   "metadata": {},
   "outputs": [
    {
     "data": {
      "text/plain": [
       "4"
      ]
     },
     "execution_count": 8,
     "metadata": {},
     "output_type": "execute_result"
    }
   ],
   "source": [
    "B[1,2]"
   ]
  },
  {
   "cell_type": "code",
   "execution_count": 9,
   "metadata": {},
   "outputs": [],
   "source": [
    "C= np.array([[[1,3,4],[1,0,4]],[[2,1,0],[0,9,5]]])"
   ]
  },
  {
   "cell_type": "code",
   "execution_count": 13,
   "metadata": {},
   "outputs": [
    {
     "data": {
      "text/plain": [
       "9"
      ]
     },
     "execution_count": 13,
     "metadata": {},
     "output_type": "execute_result"
    }
   ],
   "source": [
    "B[1,3]"
   ]
  },
  {
   "cell_type": "code",
   "execution_count": 14,
   "metadata": {},
   "outputs": [
    {
     "data": {
      "text/plain": [
       "3"
      ]
     },
     "execution_count": 14,
     "metadata": {},
     "output_type": "execute_result"
    }
   ],
   "source": [
    "C.ndim"
   ]
  },
  {
   "cell_type": "code",
   "execution_count": 3,
   "metadata": {},
   "outputs": [
    {
     "data": {
      "text/plain": [
       "12"
      ]
     },
     "execution_count": 3,
     "metadata": {},
     "output_type": "execute_result"
    }
   ],
   "source": [
    "import numpy as np\n",
    "C= np.array([[[1,3,4],[1,0,4]],[[2,1,0],[0,9,5]]])\n",
    "C.size"
   ]
  },
  {
   "cell_type": "code",
   "execution_count": 4,
   "metadata": {},
   "outputs": [
    {
     "data": {
      "text/plain": [
       "48"
      ]
     },
     "execution_count": 4,
     "metadata": {},
     "output_type": "execute_result"
    }
   ],
   "source": [
    "C.nbytes"
   ]
  },
  {
   "cell_type": "code",
   "execution_count": 5,
   "metadata": {},
   "outputs": [
    {
     "data": {
      "text/plain": [
       "<function numpy.zeros>"
      ]
     },
     "execution_count": 5,
     "metadata": {},
     "output_type": "execute_result"
    }
   ],
   "source": [
    "np.zeros"
   ]
  },
  {
   "cell_type": "code",
   "execution_count": 9,
   "metadata": {},
   "outputs": [],
   "source": [
    "import numpy as np"
   ]
  },
  {
   "cell_type": "code",
   "execution_count": 10,
   "metadata": {},
   "outputs": [],
   "source": [
    "\n",
    "A= np.arange(11)"
   ]
  },
  {
   "cell_type": "code",
   "execution_count": 11,
   "metadata": {},
   "outputs": [
    {
     "name": "stdout",
     "output_type": "stream",
     "text": [
      "[ 0  1  2  3  4  5  6  7  8  9 10]\n"
     ]
    }
   ],
   "source": [
    "print (A)"
   ]
  },
  {
   "cell_type": "code",
   "execution_count": 14,
   "metadata": {},
   "outputs": [],
   "source": [
    "B= np.arange(2004,2021,2)"
   ]
  },
  {
   "cell_type": "code",
   "execution_count": 20,
   "metadata": {},
   "outputs": [
    {
     "name": "stdout",
     "output_type": "stream",
     "text": [
      "[2004 2005 2006 2007 2008 2009 2010 2011 2012 2013 2014 2015 2016 2017\n",
      " 2018 2019 2020]\n"
     ]
    }
   ],
   "source": [
    "print(B)"
   ]
  },
  {
   "cell_type": "code",
   "execution_count": 19,
   "metadata": {},
   "outputs": [
    {
     "name": "stdout",
     "output_type": "stream",
     "text": [
      "[2004 2006 2008 2010 2012 2014 2016 2018 2020]\n"
     ]
    }
   ],
   "source": [
    "C= np.arange(2004,2021,2)\n",
    "print(C)"
   ]
  },
  {
   "cell_type": "code",
   "execution_count": 7,
   "metadata": {},
   "outputs": [
    {
     "name": "stdout",
     "output_type": "stream",
     "text": [
      "[10, 12, 14, 16, 18]\n"
     ]
    }
   ],
   "source": [
    "print (list(range(10,20,2)))"
   ]
  },
  {
   "cell_type": "code",
   "execution_count": 2,
   "metadata": {},
   "outputs": [
    {
     "name": "stdout",
     "output_type": "stream",
     "text": [
      "[ 7  3  6  2  4  5 10  9  8  0  1]\n"
     ]
    }
   ],
   "source": [
    "import numpy as np\n",
    "print(np.random.permutation(11))"
   ]
  },
  {
   "cell_type": "code",
   "execution_count": 13,
   "metadata": {},
   "outputs": [
    {
     "data": {
      "text/plain": [
       "9"
      ]
     },
     "execution_count": 13,
     "metadata": {},
     "output_type": "execute_result"
    }
   ],
   "source": [
    "np.random.randint(10)"
   ]
  },
  {
   "cell_type": "code",
   "execution_count": 4,
   "metadata": {},
   "outputs": [
    {
     "data": {
      "text/plain": [
       "array([[0, 1],\n",
       "       [2, 3],\n",
       "       [4, 5],\n",
       "       [6, 7],\n",
       "       [8, 9]])"
      ]
     },
     "execution_count": 4,
     "metadata": {},
     "output_type": "execute_result"
    }
   ],
   "source": [
    "import numpy as np\n",
    "C = np.arange(10)\n",
    "C.reshape(5,2)"
   ]
  },
  {
   "cell_type": "code",
   "execution_count": 5,
   "metadata": {},
   "outputs": [
    {
     "name": "stdout",
     "output_type": "stream",
     "text": [
      "[2 3 4 5 6]\n"
     ]
    }
   ],
   "source": [
    "A = np.arange(10)\n",
    "b= A[2:7]\n",
    "print(b)"
   ]
  },
  {
   "cell_type": "code",
   "execution_count": 6,
   "metadata": {},
   "outputs": [
    {
     "name": "stdout",
     "output_type": "stream",
     "text": [
      "[2 2 4 5 6]\n"
     ]
    }
   ],
   "source": [
    "b[1] = 2\n",
    "print(b)"
   ]
  },
  {
   "cell_type": "code",
   "execution_count": 26,
   "metadata": {},
   "outputs": [],
   "source": [
    "C= np.arange(100)\n",
    "c = C[50:100]\n",
    "c[23] = 9281"
   ]
  },
  {
   "cell_type": "code",
   "execution_count": 27,
   "metadata": {},
   "outputs": [
    {
     "name": "stdout",
     "output_type": "stream",
     "text": [
      "[  50   51   52   53   54   55   56   57   58   59   60   61   62   63\n",
      "   64   65   66   67   68   69   70   71   72 9281   74   75   76   77\n",
      "   78   79   80   81   82   83   84   85   86   87   88   89   90   91\n",
      "   92   93   94   95   96   97   98   99]\n"
     ]
    }
   ],
   "source": [
    "print(c)"
   ]
  },
  {
   "cell_type": "code",
   "execution_count": 28,
   "metadata": {},
   "outputs": [
    {
     "name": "stdout",
     "output_type": "stream",
     "text": [
      "[  99   98   97   96   95   94   93   92   91   90   89   88   87   86\n",
      "   85   84   83   82   81   80   79   78   77   76   75   74 9281   72\n",
      "   71   70   69   68   67   66   65   64   63   62   61   60   59   58\n",
      "   57   56   55   54   53   52   51   50   49   48   47   46   45   44\n",
      "   43   42   41   40   39   38   37   36   35   34   33   32   31   30\n",
      "   29   28   27   26   25   24   23   22   21   20   19   18   17   16\n",
      "   15   14   13   12   11   10    9    8    7    6    5    4    3    2\n",
      "    1    0]\n"
     ]
    }
   ],
   "source": [
    "c= C[::-1]\n",
    "print(c)"
   ]
  },
  {
   "cell_type": "code",
   "execution_count": 2,
   "metadata": {},
   "outputs": [
    {
     "ename": "NameError",
     "evalue": "name 'C' is not defined",
     "output_type": "error",
     "traceback": [
      "\u001b[1;31m---------------------------------------------------------------------------\u001b[0m",
      "\u001b[1;31mNameError\u001b[0m                                 Traceback (most recent call last)",
      "\u001b[1;32m<ipython-input-2-53a5c723cac2>\u001b[0m in \u001b[0;36m<module>\u001b[1;34m\u001b[0m\n\u001b[0;32m      1\u001b[0m \u001b[1;32mimport\u001b[0m \u001b[0mnumpy\u001b[0m \u001b[1;32mas\u001b[0m \u001b[0mnp\u001b[0m\u001b[1;33m\u001b[0m\u001b[1;33m\u001b[0m\u001b[0m\n\u001b[1;32m----> 2\u001b[1;33m \u001b[0midx\u001b[0m \u001b[1;33m=\u001b[0m \u001b[0mnp\u001b[0m\u001b[1;33m.\u001b[0m\u001b[0margwhere\u001b[0m\u001b[1;33m(\u001b[0m\u001b[0mC\u001b[0m\u001b[1;33m==\u001b[0m\u001b[1;36m2\u001b[0m\u001b[1;33m)\u001b[0m\u001b[1;33m[\u001b[0m\u001b[1;36m0\u001b[0m\u001b[1;33m]\u001b[0m\u001b[1;33m[\u001b[0m\u001b[1;36m0\u001b[0m\u001b[1;33m]\u001b[0m\u001b[1;33m\u001b[0m\u001b[1;33m\u001b[0m\u001b[0m\n\u001b[0m",
      "\u001b[1;31mNameError\u001b[0m: name 'C' is not defined"
     ]
    }
   ],
   "source": [
    "import numpy as np\n",
    "idx = np.argwhere(C==2)[0][0]"
   ]
  },
  {
   "cell_type": "code",
   "execution_count": null,
   "metadata": {},
   "outputs": [],
   "source": [
    "idx"
   ]
  },
  {
   "cell_type": "code",
   "execution_count": 31,
   "metadata": {},
   "outputs": [
    {
     "data": {
      "text/plain": [
       "array([  99,   98,   97,   96,   95,   94,   93,   92,   91,   90,   89,\n",
       "         88,   87,   86,   85,   84,   83,   82,   81,   80,   79,   78,\n",
       "         77,   76,   75,   74, 9281,   72,   71,   70,   69,   68,   67,\n",
       "         66,   65,   64,   63,   62,   61,   60,   59,   58,   57,   56,\n",
       "         55,   54,   53,   52,   51,   50,   49,   48,   47,   46,   45,\n",
       "         44,   43,   42,   41,   40,   39,   38,   37,   36,   35,   34,\n",
       "         33,   32,   31,   30,   29,   28,   27,   26,   25,   24,   23,\n",
       "         22,   21,   20,   19,   18,   17,   16,   15,   14,   13,   12,\n",
       "         11,   10,    9,    8,    7,    6,    5,    4,    3,    2,    1,\n",
       "          0])"
      ]
     },
     "execution_count": 31,
     "metadata": {},
     "output_type": "execute_result"
    }
   ],
   "source": [
    "c"
   ]
  },
  {
   "cell_type": "code",
   "execution_count": 32,
   "metadata": {},
   "outputs": [],
   "source": [
    "idx = np.argwhere(C==9281)[0][0]"
   ]
  },
  {
   "cell_type": "code",
   "execution_count": 33,
   "metadata": {},
   "outputs": [
    {
     "data": {
      "text/plain": [
       "73"
      ]
     },
     "execution_count": 33,
     "metadata": {},
     "output_type": "execute_result"
    }
   ],
   "source": [
    "idx"
   ]
  },
  {
   "cell_type": "code",
   "execution_count": 34,
   "metadata": {},
   "outputs": [],
   "source": [
    "C[idx]= 75"
   ]
  },
  {
   "cell_type": "code",
   "execution_count": 35,
   "metadata": {},
   "outputs": [
    {
     "data": {
      "text/plain": [
       "array([99, 98, 97, 96, 95, 94, 93, 92, 91, 90, 89, 88, 87, 86, 85, 84, 83,\n",
       "       82, 81, 80, 79, 78, 77, 76, 75, 74, 75, 72, 71, 70, 69, 68, 67, 66,\n",
       "       65, 64, 63, 62, 61, 60, 59, 58, 57, 56, 55, 54, 53, 52, 51, 50, 49,\n",
       "       48, 47, 46, 45, 44, 43, 42, 41, 40, 39, 38, 37, 36, 35, 34, 33, 32,\n",
       "       31, 30, 29, 28, 27, 26, 25, 24, 23, 22, 21, 20, 19, 18, 17, 16, 15,\n",
       "       14, 13, 12, 11, 10,  9,  8,  7,  6,  5,  4,  3,  2,  1,  0])"
      ]
     },
     "execution_count": 35,
     "metadata": {},
     "output_type": "execute_result"
    }
   ],
   "source": [
    "c"
   ]
  },
  {
   "cell_type": "code",
   "execution_count": 38,
   "metadata": {},
   "outputs": [],
   "source": [
    "A = np.round(10*np.random.rand(5,4))"
   ]
  },
  {
   "cell_type": "code",
   "execution_count": 39,
   "metadata": {},
   "outputs": [
    {
     "data": {
      "text/plain": [
       "array([[ 1.,  6.,  4.,  2.],\n",
       "       [ 3.,  8.,  5.,  7.],\n",
       "       [ 9., 10.,  5.,  8.],\n",
       "       [ 8., 10.,  8.,  3.],\n",
       "       [ 9.,  5.,  5.,  3.]])"
      ]
     },
     "execution_count": 39,
     "metadata": {},
     "output_type": "execute_result"
    }
   ],
   "source": [
    "A"
   ]
  },
  {
   "cell_type": "code",
   "execution_count": 40,
   "metadata": {},
   "outputs": [
    {
     "data": {
      "text/plain": [
       "7.0"
      ]
     },
     "execution_count": 40,
     "metadata": {},
     "output_type": "execute_result"
    }
   ],
   "source": [
    "A[1,3]"
   ]
  },
  {
   "cell_type": "code",
   "execution_count": 41,
   "metadata": {},
   "outputs": [
    {
     "data": {
      "text/plain": [
       "array([1., 3., 9., 8., 9.])"
      ]
     },
     "execution_count": 41,
     "metadata": {},
     "output_type": "execute_result"
    }
   ],
   "source": [
    "A[:,0]"
   ]
  },
  {
   "cell_type": "code",
   "execution_count": 43,
   "metadata": {},
   "outputs": [
    {
     "data": {
      "text/plain": [
       "array([[1., 6.],\n",
       "       [3., 8.]])"
      ]
     },
     "execution_count": 43,
     "metadata": {},
     "output_type": "execute_result"
    }
   ],
   "source": [
    "A[0:2,0:2]"
   ]
  },
  {
   "cell_type": "code",
   "execution_count": 44,
   "metadata": {},
   "outputs": [
    {
     "data": {
      "text/plain": [
       "array([[ 1.,  3.,  9.,  8.,  9.],\n",
       "       [ 6.,  8., 10., 10.,  5.],\n",
       "       [ 4.,  5.,  5.,  8.,  5.],\n",
       "       [ 2.,  7.,  8.,  3.,  3.]])"
      ]
     },
     "execution_count": 44,
     "metadata": {},
     "output_type": "execute_result"
    }
   ],
   "source": [
    "A.T"
   ]
  },
  {
   "cell_type": "code",
   "execution_count": 45,
   "metadata": {},
   "outputs": [
    {
     "data": {
      "text/plain": [
       "array([[ 1.,  6.,  4.,  2.],\n",
       "       [ 3.,  8.,  5.,  7.],\n",
       "       [ 9., 10.,  5.,  8.],\n",
       "       [ 8., 10.,  8.,  3.],\n",
       "       [ 9.,  5.,  5.,  3.]])"
      ]
     },
     "execution_count": 45,
     "metadata": {},
     "output_type": "execute_result"
    }
   ],
   "source": [
    "A\n"
   ]
  },
  {
   "cell_type": "code",
   "execution_count": 46,
   "metadata": {},
   "outputs": [],
   "source": [
    "A.sort(axis=0)"
   ]
  },
  {
   "cell_type": "code",
   "execution_count": 47,
   "metadata": {},
   "outputs": [
    {
     "data": {
      "text/plain": [
       "array([[ 1.,  5.,  4.,  2.],\n",
       "       [ 3.,  6.,  5.,  3.],\n",
       "       [ 8.,  8.,  5.,  3.],\n",
       "       [ 9., 10.,  5.,  7.],\n",
       "       [ 9., 10.,  8.,  8.]])"
      ]
     },
     "execution_count": 47,
     "metadata": {},
     "output_type": "execute_result"
    }
   ],
   "source": [
    "A\n"
   ]
  },
  {
   "cell_type": "code",
   "execution_count": 5,
   "metadata": {},
   "outputs": [
    {
     "name": "stdout",
     "output_type": "stream",
     "text": [
      "[0 5 7 6 9 2 8 3 1 4]\n"
     ]
    }
   ],
   "source": [
    "print(np.random.permutation(10))"
   ]
  },
  {
   "cell_type": "code",
   "execution_count": 4,
   "metadata": {},
   "outputs": [
    {
     "data": {
      "text/plain": [
       "array([3, 8, 6, 4, 1, 5, 9, 0, 7, 2])"
      ]
     },
     "execution_count": 4,
     "metadata": {},
     "output_type": "execute_result"
    }
   ],
   "source": [
    "B\n"
   ]
  },
  {
   "cell_type": "code",
   "execution_count": 7,
   "metadata": {},
   "outputs": [],
   "source": [
    "A = np.arange(100)"
   ]
  },
  {
   "cell_type": "code",
   "execution_count": 9,
   "metadata": {},
   "outputs": [],
   "source": [
    "B = A[[2,3,4]]"
   ]
  },
  {
   "cell_type": "code",
   "execution_count": 10,
   "metadata": {},
   "outputs": [
    {
     "data": {
      "text/plain": [
       "array([2, 3, 4])"
      ]
     },
     "execution_count": 10,
     "metadata": {},
     "output_type": "execute_result"
    }
   ],
   "source": [
    "B"
   ]
  },
  {
   "cell_type": "code",
   "execution_count": 11,
   "metadata": {},
   "outputs": [],
   "source": [
    "B[2] = 2\n",
    "B[1] = 2"
   ]
  },
  {
   "cell_type": "markdown",
   "metadata": {},
   "source": [
    "B"
   ]
  },
  {
   "cell_type": "code",
   "execution_count": 12,
   "metadata": {},
   "outputs": [
    {
     "name": "stdout",
     "output_type": "stream",
     "text": [
      "[2 2 2]\n"
     ]
    }
   ],
   "source": [
    "print(B)"
   ]
  },
  {
   "cell_type": "code",
   "execution_count": 13,
   "metadata": {},
   "outputs": [
    {
     "data": {
      "text/plain": [
       "array([ 0,  1,  2,  3,  4,  5,  6,  7,  8,  9, 10, 11, 12, 13, 14, 15, 16,\n",
       "       17, 18, 19, 20, 21, 22, 23, 24, 25, 26, 27, 28, 29, 30, 31, 32, 33,\n",
       "       34, 35, 36, 37, 38, 39, 40, 41, 42, 43, 44, 45, 46, 47, 48, 49, 50,\n",
       "       51, 52, 53, 54, 55, 56, 57, 58, 59, 60, 61, 62, 63, 64, 65, 66, 67,\n",
       "       68, 69, 70, 71, 72, 73, 74, 75, 76, 77, 78, 79, 80, 81, 82, 83, 84,\n",
       "       85, 86, 87, 88, 89, 90, 91, 92, 93, 94, 95, 96, 97, 98, 99])"
      ]
     },
     "execution_count": 13,
     "metadata": {},
     "output_type": "execute_result"
    }
   ],
   "source": [
    "A"
   ]
  },
  {
   "cell_type": "code",
   "execution_count": 14,
   "metadata": {},
   "outputs": [],
   "source": [
    "A[3] = 2"
   ]
  },
  {
   "cell_type": "code",
   "execution_count": 15,
   "metadata": {},
   "outputs": [
    {
     "data": {
      "text/plain": [
       "array([ 0,  1,  2,  2,  4,  5,  6,  7,  8,  9, 10, 11, 12, 13, 14, 15, 16,\n",
       "       17, 18, 19, 20, 21, 22, 23, 24, 25, 26, 27, 28, 29, 30, 31, 32, 33,\n",
       "       34, 35, 36, 37, 38, 39, 40, 41, 42, 43, 44, 45, 46, 47, 48, 49, 50,\n",
       "       51, 52, 53, 54, 55, 56, 57, 58, 59, 60, 61, 62, 63, 64, 65, 66, 67,\n",
       "       68, 69, 70, 71, 72, 73, 74, 75, 76, 77, 78, 79, 80, 81, 82, 83, 84,\n",
       "       85, 86, 87, 88, 89, 90, 91, 92, 93, 94, 95, 96, 97, 98, 99])"
      ]
     },
     "execution_count": 15,
     "metadata": {},
     "output_type": "execute_result"
    }
   ],
   "source": [
    "A"
   ]
  },
  {
   "cell_type": "code",
   "execution_count": 16,
   "metadata": {},
   "outputs": [],
   "source": [
    "B = A[A< 40]"
   ]
  },
  {
   "cell_type": "code",
   "execution_count": 17,
   "metadata": {},
   "outputs": [
    {
     "data": {
      "text/plain": [
       "array([ 0,  1,  2,  2,  4,  5,  6,  7,  8,  9, 10, 11, 12, 13, 14, 15, 16,\n",
       "       17, 18, 19, 20, 21, 22, 23, 24, 25, 26, 27, 28, 29, 30, 31, 32, 33,\n",
       "       34, 35, 36, 37, 38, 39])"
      ]
     },
     "execution_count": 17,
     "metadata": {},
     "output_type": "execute_result"
    }
   ],
   "source": [
    "B"
   ]
  },
  {
   "cell_type": "code",
   "execution_count": 22,
   "metadata": {},
   "outputs": [],
   "source": [
    "B = A[A>40]"
   ]
  },
  {
   "cell_type": "code",
   "execution_count": 24,
   "metadata": {},
   "outputs": [
    {
     "data": {
      "text/plain": [
       "array([41, 42, 43, 44, 45, 46, 47, 48, 49, 50, 51, 52, 53, 54, 55, 56, 57,\n",
       "       58, 59, 60, 61, 62, 63, 64, 65, 66, 67, 68, 69, 70, 71, 72, 73, 74,\n",
       "       75, 76, 77, 78, 79, 80, 81, 82, 83, 84, 85, 86, 87, 88, 89, 90, 91,\n",
       "       92, 93, 94, 95, 96, 97, 98, 99])"
      ]
     },
     "execution_count": 24,
     "metadata": {},
     "output_type": "execute_result"
    }
   ],
   "source": [
    "B"
   ]
  },
  {
   "cell_type": "code",
   "execution_count": 25,
   "metadata": {},
   "outputs": [],
   "source": [
    "B = A[(A>40) & (A%2==0)]"
   ]
  },
  {
   "cell_type": "code",
   "execution_count": 26,
   "metadata": {},
   "outputs": [
    {
     "data": {
      "text/plain": [
       "array([42, 44, 46, 48, 50, 52, 54, 56, 58, 60, 62, 64, 66, 68, 70, 72, 74,\n",
       "       76, 78, 80, 82, 84, 86, 88, 90, 92, 94, 96, 98])"
      ]
     },
     "execution_count": 26,
     "metadata": {},
     "output_type": "execute_result"
    }
   ],
   "source": [
    "B"
   ]
  },
  {
   "cell_type": "code",
   "execution_count": 27,
   "metadata": {},
   "outputs": [],
   "source": [
    "A = np.round(10*np.random.rand(2,3))"
   ]
  },
  {
   "cell_type": "code",
   "execution_count": 28,
   "metadata": {},
   "outputs": [
    {
     "data": {
      "text/plain": [
       "array([[2., 1., 8.],\n",
       "       [2., 9., 7.]])"
      ]
     },
     "execution_count": 28,
     "metadata": {},
     "output_type": "execute_result"
    }
   ],
   "source": [
    "A"
   ]
  },
  {
   "cell_type": "code",
   "execution_count": 29,
   "metadata": {},
   "outputs": [
    {
     "data": {
      "text/plain": [
       "array([[ 6.,  5., 12.],\n",
       "       [ 6., 13., 11.]])"
      ]
     },
     "execution_count": 29,
     "metadata": {},
     "output_type": "execute_result"
    }
   ],
   "source": [
    "A+4"
   ]
  },
  {
   "cell_type": "code",
   "execution_count": 37,
   "metadata": {},
   "outputs": [],
   "source": [
    "B = np.round(10*np.random.rand(2,2))"
   ]
  },
  {
   "cell_type": "code",
   "execution_count": 38,
   "metadata": {},
   "outputs": [
    {
     "data": {
      "text/plain": [
       "array([[2., 6.],\n",
       "       [2., 4.]])"
      ]
     },
     "execution_count": 38,
     "metadata": {},
     "output_type": "execute_result"
    }
   ],
   "source": [
    "B"
   ]
  },
  {
   "cell_type": "code",
   "execution_count": 39,
   "metadata": {},
   "outputs": [],
   "source": [
    "C = np.hstack((A,B)) #np.vstack\n",
    " "
   ]
  },
  {
   "cell_type": "code",
   "execution_count": 40,
   "metadata": {},
   "outputs": [
    {
     "data": {
      "text/plain": [
       "array([[2., 1., 8., 2., 6.],\n",
       "       [2., 9., 7., 2., 4.]])"
      ]
     },
     "execution_count": 40,
     "metadata": {},
     "output_type": "execute_result"
    }
   ],
   "source": [
    "C"
   ]
  },
  {
   "cell_type": "code",
   "execution_count": 41,
   "metadata": {},
   "outputs": [
    {
     "ename": "ValueError",
     "evalue": "all the input array dimensions for the concatenation axis must match exactly, but along dimension 1, the array at index 0 has size 3 and the array at index 1 has size 2",
     "output_type": "error",
     "traceback": [
      "\u001b[1;31m---------------------------------------------------------------------------\u001b[0m",
      "\u001b[1;31mValueError\u001b[0m                                Traceback (most recent call last)",
      "\u001b[1;32m<ipython-input-41-75b8069de474>\u001b[0m in \u001b[0;36m<module>\u001b[1;34m\u001b[0m\n\u001b[1;32m----> 1\u001b[1;33m \u001b[0mD\u001b[0m \u001b[1;33m=\u001b[0m \u001b[0mnp\u001b[0m\u001b[1;33m.\u001b[0m\u001b[0mvstack\u001b[0m\u001b[1;33m(\u001b[0m\u001b[1;33m(\u001b[0m\u001b[0mA\u001b[0m\u001b[1;33m,\u001b[0m\u001b[0mB\u001b[0m\u001b[1;33m)\u001b[0m\u001b[1;33m)\u001b[0m\u001b[1;33m\u001b[0m\u001b[1;33m\u001b[0m\u001b[0m\n\u001b[0m",
      "\u001b[1;32m<__array_function__ internals>\u001b[0m in \u001b[0;36mvstack\u001b[1;34m(*args, **kwargs)\u001b[0m\n",
      "\u001b[1;32mD:\\Anacondaaaa\\lib\\site-packages\\numpy\\core\\shape_base.py\u001b[0m in \u001b[0;36mvstack\u001b[1;34m(tup)\u001b[0m\n\u001b[0;32m    281\u001b[0m     \u001b[1;32mif\u001b[0m \u001b[1;32mnot\u001b[0m \u001b[0misinstance\u001b[0m\u001b[1;33m(\u001b[0m\u001b[0marrs\u001b[0m\u001b[1;33m,\u001b[0m \u001b[0mlist\u001b[0m\u001b[1;33m)\u001b[0m\u001b[1;33m:\u001b[0m\u001b[1;33m\u001b[0m\u001b[1;33m\u001b[0m\u001b[0m\n\u001b[0;32m    282\u001b[0m         \u001b[0marrs\u001b[0m \u001b[1;33m=\u001b[0m \u001b[1;33m[\u001b[0m\u001b[0marrs\u001b[0m\u001b[1;33m]\u001b[0m\u001b[1;33m\u001b[0m\u001b[1;33m\u001b[0m\u001b[0m\n\u001b[1;32m--> 283\u001b[1;33m     \u001b[1;32mreturn\u001b[0m \u001b[0m_nx\u001b[0m\u001b[1;33m.\u001b[0m\u001b[0mconcatenate\u001b[0m\u001b[1;33m(\u001b[0m\u001b[0marrs\u001b[0m\u001b[1;33m,\u001b[0m \u001b[1;36m0\u001b[0m\u001b[1;33m)\u001b[0m\u001b[1;33m\u001b[0m\u001b[1;33m\u001b[0m\u001b[0m\n\u001b[0m\u001b[0;32m    284\u001b[0m \u001b[1;33m\u001b[0m\u001b[0m\n\u001b[0;32m    285\u001b[0m \u001b[1;33m\u001b[0m\u001b[0m\n",
      "\u001b[1;32m<__array_function__ internals>\u001b[0m in \u001b[0;36mconcatenate\u001b[1;34m(*args, **kwargs)\u001b[0m\n",
      "\u001b[1;31mValueError\u001b[0m: all the input array dimensions for the concatenation axis must match exactly, but along dimension 1, the array at index 0 has size 3 and the array at index 1 has size 2"
     ]
    }
   ],
   "source": []
  },
  {
   "cell_type": "code",
   "execution_count": 42,
   "metadata": {},
   "outputs": [],
   "source": [
    "A = np.random.permutation(10)"
   ]
  },
  {
   "cell_type": "code",
   "execution_count": 43,
   "metadata": {},
   "outputs": [
    {
     "data": {
      "text/plain": [
       "array([8, 3, 1, 6, 9, 5, 7, 2, 0, 4])"
      ]
     },
     "execution_count": 43,
     "metadata": {},
     "output_type": "execute_result"
    }
   ],
   "source": [
    "A"
   ]
  },
  {
   "cell_type": "code",
   "execution_count": 44,
   "metadata": {},
   "outputs": [],
   "source": [
    "A.sort()"
   ]
  },
  {
   "cell_type": "code",
   "execution_count": 45,
   "metadata": {},
   "outputs": [
    {
     "data": {
      "text/plain": [
       "array([0, 1, 2, 3, 4, 5, 6, 7, 8, 9])"
      ]
     },
     "execution_count": 45,
     "metadata": {},
     "output_type": "execute_result"
    }
   ],
   "source": [
    "A"
   ]
  },
  {
   "cell_type": "code",
   "execution_count": 46,
   "metadata": {},
   "outputs": [
    {
     "data": {
      "text/plain": [
       "array([0, 1, 2, 3, 4, 5, 6, 7, 8, 9])"
      ]
     },
     "execution_count": 46,
     "metadata": {},
     "output_type": "execute_result"
    }
   ],
   "source": [
    "A"
   ]
  },
  {
   "cell_type": "code",
   "execution_count": 47,
   "metadata": {},
   "outputs": [],
   "source": [
    "A= A[::-1]"
   ]
  },
  {
   "cell_type": "code",
   "execution_count": 48,
   "metadata": {},
   "outputs": [
    {
     "data": {
      "text/plain": [
       "array([9, 8, 7, 6, 5, 4, 3, 2, 1, 0])"
      ]
     },
     "execution_count": 48,
     "metadata": {},
     "output_type": "execute_result"
    }
   ],
   "source": [
    "A"
   ]
  },
  {
   "cell_type": "code",
   "execution_count": 49,
   "metadata": {},
   "outputs": [],
   "source": [
    "A=A[2::]"
   ]
  },
  {
   "cell_type": "code",
   "execution_count": 50,
   "metadata": {},
   "outputs": [
    {
     "data": {
      "text/plain": [
       "array([7, 6, 5, 4, 3, 2, 1, 0])"
      ]
     },
     "execution_count": 50,
     "metadata": {},
     "output_type": "execute_result"
    }
   ],
   "source": [
    "A"
   ]
  },
  {
   "cell_type": "code",
   "execution_count": 51,
   "metadata": {},
   "outputs": [],
   "source": [
    "B = np.random.rand(1000)"
   ]
  },
  {
   "cell_type": "code",
   "execution_count": 52,
   "metadata": {},
   "outputs": [
    {
     "data": {
      "text/plain": [
       "array([0.79851061, 0.65724585, 0.82735041, 0.00323463, 0.33238105,\n",
       "       0.66416675, 0.72150442, 0.5774223 , 0.34476198, 0.29342619,\n",
       "       0.86312439, 0.81786806, 0.78768322, 0.18408978, 0.00762067,\n",
       "       0.69560374, 0.92275424, 0.2390586 , 0.444623  , 0.13718467,\n",
       "       0.34980552, 0.09715609, 0.44525201, 0.18298013, 0.96083392,\n",
       "       0.82398759, 0.68343072, 0.46953082, 0.09589756, 0.15987509,\n",
       "       0.33913631, 0.73858476, 0.56035616, 0.64155115, 0.81444171,\n",
       "       0.51474765, 0.51443521, 0.00826172, 0.43767877, 0.20406631,\n",
       "       0.27493857, 0.12838948, 0.54085104, 0.49299633, 0.15616047,\n",
       "       0.91556552, 0.69045921, 0.4690533 , 0.14887987, 0.49568989,\n",
       "       0.99487258, 0.39222032, 0.88910282, 0.73037923, 0.10231075,\n",
       "       0.59769714, 0.2432941 , 0.37020497, 0.82367741, 0.32044771,\n",
       "       0.16882144, 0.27840399, 0.21691438, 0.37559987, 0.06400339,\n",
       "       0.37646523, 0.26475527, 0.20780502, 0.97640658, 0.83035098,\n",
       "       0.4929056 , 0.12777368, 0.61090904, 0.44997741, 0.27989499,\n",
       "       0.43885886, 0.58325235, 0.87262167, 0.73120506, 0.46844178,\n",
       "       0.65975986, 0.98648302, 0.99067714, 0.70588534, 0.57040979,\n",
       "       0.56634258, 0.46878702, 0.75175521, 0.42862634, 0.43753125,\n",
       "       0.78860927, 0.80762536, 0.06550761, 0.51041588, 0.18136943,\n",
       "       0.6993766 , 0.19623868, 0.16845652, 0.38209921, 0.50538152,\n",
       "       0.71503867, 0.4836807 , 0.58740045, 0.05350026, 0.0776099 ,\n",
       "       0.14082814, 0.50474073, 0.99878288, 0.32326396, 0.39824557,\n",
       "       0.82420532, 0.82409049, 0.80851461, 0.74960149, 0.28161816,\n",
       "       0.16220685, 0.0519231 , 0.72965174, 0.40618985, 0.79067051,\n",
       "       0.53711782, 0.46982883, 0.40199461, 0.72563099, 0.26339602,\n",
       "       0.03188719, 0.15658803, 0.27979389, 0.13339005, 0.37536316,\n",
       "       0.27895106, 0.37654535, 0.72836301, 0.07644897, 0.87933734,\n",
       "       0.67833795, 0.87462454, 0.47021735, 0.48133834, 0.3462228 ,\n",
       "       0.67475033, 0.85674398, 0.54348855, 0.01878415, 0.15984105,\n",
       "       0.74246928, 0.83259228, 0.34604785, 0.71688295, 0.50793714,\n",
       "       0.4270226 , 0.14179696, 0.9213291 , 0.62566803, 0.71404587,\n",
       "       0.80467067, 0.75548793, 0.90554093, 0.21832319, 0.14501945,\n",
       "       0.30245253, 0.08587762, 0.93122662, 0.91518682, 0.67110863,\n",
       "       0.50620422, 0.85290196, 0.94622947, 0.08104873, 0.56929941,\n",
       "       0.9096604 , 0.0761534 , 0.0373038 , 0.21205762, 0.49966808,\n",
       "       0.62471102, 0.59696409, 0.77451931, 0.6562202 , 0.82214055,\n",
       "       0.65904151, 0.077469  , 0.69911286, 0.0505453 , 0.81560512,\n",
       "       0.73409942, 0.0880616 , 0.80556037, 0.81700824, 0.80066933,\n",
       "       0.52867889, 0.0016241 , 0.92077659, 0.67101507, 0.26679238,\n",
       "       0.05922847, 0.17208658, 0.67059855, 0.98473999, 0.95722651,\n",
       "       0.08616205, 0.30073831, 0.600495  , 0.16511963, 0.06463276,\n",
       "       0.88564441, 0.56230465, 0.65643865, 0.69779073, 0.75066358,\n",
       "       0.89483767, 0.87587634, 0.53756307, 0.78806484, 0.58782944,\n",
       "       0.87621945, 0.64971914, 0.14251017, 0.36403198, 0.90791861,\n",
       "       0.39362186, 0.67762513, 0.02337354, 0.6946847 , 0.9206115 ,\n",
       "       0.23966481, 0.24152643, 0.71192724, 0.78892138, 0.01368881,\n",
       "       0.21878651, 0.12504587, 0.20000704, 0.97626509, 0.88483219,\n",
       "       0.89761586, 0.88871014, 0.33965794, 0.61314816, 0.05305673,\n",
       "       0.38445205, 0.34093288, 0.23064259, 0.59471218, 0.93814072,\n",
       "       0.23239346, 0.23120164, 0.08386219, 0.84887228, 0.21560241,\n",
       "       0.29588138, 0.83174457, 0.12669057, 0.01088788, 0.91389063,\n",
       "       0.42935788, 0.91518334, 0.49272436, 0.92770668, 0.24203704,\n",
       "       0.98832215, 0.59828684, 0.70187456, 0.24830333, 0.0494368 ,\n",
       "       0.39473938, 0.56902899, 0.89817744, 0.27638987, 0.95980665,\n",
       "       0.09314456, 0.56419263, 0.83338387, 0.14000287, 0.51830954,\n",
       "       0.68565862, 0.15271645, 0.19962755, 0.55091149, 0.05172917,\n",
       "       0.95803693, 0.78349225, 0.52930758, 0.73311379, 0.42093995,\n",
       "       0.61213928, 0.17018379, 0.60059127, 0.27916432, 0.35419654,\n",
       "       0.16777271, 0.21741156, 0.13256874, 0.13045048, 0.27087869,\n",
       "       0.64538912, 0.01148882, 0.49172789, 0.39792366, 0.72935392,\n",
       "       0.15039863, 0.06412778, 0.12964512, 0.17294885, 0.34333273,\n",
       "       0.24995982, 0.1778412 , 0.58130753, 0.7516426 , 0.54901744,\n",
       "       0.76646773, 0.61384569, 0.52724918, 0.65840694, 0.67568756,\n",
       "       0.60726342, 0.24991072, 0.94307707, 0.02987193, 0.11716475,\n",
       "       0.68483844, 0.30625902, 0.83113404, 0.39518807, 0.41744429,\n",
       "       0.40882938, 0.90050921, 0.92288298, 0.69725195, 0.12335238,\n",
       "       0.39623428, 0.63759479, 0.37143335, 0.91662157, 0.36146906,\n",
       "       0.45944173, 0.97859347, 0.68130556, 0.24225244, 0.51803873,\n",
       "       0.26704841, 0.74343817, 0.95893337, 0.73750284, 0.72960692,\n",
       "       0.24529199, 0.71991586, 0.54777326, 0.24488976, 0.40158135,\n",
       "       0.10716715, 0.11964234, 0.10811226, 0.38581504, 0.69423593,\n",
       "       0.04197173, 0.22939309, 0.3864788 , 0.30435072, 0.6813955 ,\n",
       "       0.9375541 , 0.30680816, 0.76809861, 0.2212367 , 0.36501935,\n",
       "       0.4551978 , 0.30873319, 0.01877795, 0.18708966, 0.42223294,\n",
       "       0.9804321 , 0.00559837, 0.55685717, 0.79576302, 0.99927195,\n",
       "       0.95494159, 0.37951996, 0.61618804, 0.36709228, 0.17564009,\n",
       "       0.87070996, 0.25041987, 0.14216292, 0.38122783, 0.57418478,\n",
       "       0.46024657, 0.17107656, 0.79292291, 0.33527766, 0.40211991,\n",
       "       0.76496049, 0.27467679, 0.08865962, 0.14672993, 0.48233311,\n",
       "       0.67441236, 0.59938005, 0.36672147, 0.36889791, 0.00331372,\n",
       "       0.48263975, 0.09070383, 0.72750866, 0.82873904, 0.27378777,\n",
       "       0.81438979, 0.61061699, 0.2400078 , 0.30195203, 0.66330238,\n",
       "       0.2481261 , 0.51111044, 0.95627544, 0.63485207, 0.28187175,\n",
       "       0.53094138, 0.24494185, 0.37905213, 0.91223595, 0.1169366 ,\n",
       "       0.81345634, 0.69105662, 0.56360158, 0.98712738, 0.33252512,\n",
       "       0.50165829, 0.48424391, 0.01435989, 0.30647438, 0.05842612,\n",
       "       0.00543791, 0.27665535, 0.75584627, 0.7483036 , 0.11340868,\n",
       "       0.07983531, 0.50133014, 0.40301183, 0.05995137, 0.59846977,\n",
       "       0.33516107, 0.00128709, 0.75963886, 0.97644619, 0.73450168,\n",
       "       0.03995251, 0.39281072, 0.7648625 , 0.12952323, 0.93013875,\n",
       "       0.62367433, 0.97599958, 0.35377093, 0.91835441, 0.03715576,\n",
       "       0.5745599 , 0.14314112, 0.82680054, 0.15535532, 0.55802851,\n",
       "       0.64641023, 0.84845529, 0.56069043, 0.47607782, 0.29605841,\n",
       "       0.84925146, 0.85297786, 0.98574092, 0.53886346, 0.43001937,\n",
       "       0.42210521, 0.56147266, 0.27983168, 0.88611351, 0.68775292,\n",
       "       0.31060999, 0.66688106, 0.97937897, 0.0844108 , 0.57820705,\n",
       "       0.30541409, 0.15834911, 0.3796698 , 0.15213381, 0.75237761,\n",
       "       0.33259428, 0.2586156 , 0.43350619, 0.9294725 , 0.44085706,\n",
       "       0.54667279, 0.28971719, 0.07828497, 0.06948784, 0.30356852,\n",
       "       0.3725042 , 0.21693998, 0.01264109, 0.37045532, 0.15918628,\n",
       "       0.21211231, 0.75283927, 0.46810443, 0.60355339, 0.65770382,\n",
       "       0.25237817, 0.20666446, 0.79520799, 0.92432199, 0.11251258,\n",
       "       0.58858516, 0.25965588, 0.38733796, 0.74370876, 0.99760458,\n",
       "       0.67871152, 0.18119585, 0.96437539, 0.7630746 , 0.54685695,\n",
       "       0.06329408, 0.16118894, 0.82215418, 0.43671212, 0.933468  ,\n",
       "       0.13153115, 0.79670614, 0.99053248, 0.10653041, 0.03810879,\n",
       "       0.90708754, 0.09213138, 0.10080022, 0.50601324, 0.26183561,\n",
       "       0.14281906, 0.87342353, 0.67092422, 0.27880326, 0.42420799,\n",
       "       0.66342512, 0.44685179, 0.81875968, 0.23968472, 0.65756002,\n",
       "       0.94627469, 0.04779539, 0.702425  , 0.18408128, 0.78294845,\n",
       "       0.19877122, 0.88062269, 0.47437998, 0.84041207, 0.87105421,\n",
       "       0.04963387, 0.15164797, 0.59789064, 0.74689377, 0.43855034,\n",
       "       0.23350179, 0.8568925 , 0.01490903, 0.67014104, 0.47050667,\n",
       "       0.83455343, 0.03276081, 0.15389836, 0.37520545, 0.87277397,\n",
       "       0.48144606, 0.44504734, 0.59150576, 0.48506043, 0.74143603,\n",
       "       0.83972866, 0.51562934, 0.24420881, 0.93179365, 0.59166287,\n",
       "       0.1265561 , 0.79894769, 0.27403705, 0.0322302 , 0.87390479,\n",
       "       0.99623606, 0.6341671 , 0.34844675, 0.28246555, 0.60542734,\n",
       "       0.64137549, 0.63588901, 0.03536158, 0.66495721, 0.43777744,\n",
       "       0.69687576, 0.38098232, 0.65850093, 0.06120977, 0.56443431,\n",
       "       0.25148169, 0.72182014, 0.25685422, 0.16138295, 0.69253025,\n",
       "       0.00863001, 0.39591377, 0.31863228, 0.77501013, 0.9005628 ,\n",
       "       0.08760246, 0.75301174, 0.82491979, 0.15784245, 0.10661311,\n",
       "       0.60308341, 0.96110187, 0.34634916, 0.90220252, 0.23512925,\n",
       "       0.52620254, 0.41200121, 0.90582885, 0.02021081, 0.73961805,\n",
       "       0.80014401, 0.91561076, 0.89479854, 0.9570825 , 0.05776402,\n",
       "       0.35931645, 0.73893359, 0.31620947, 0.81513351, 0.61370453,\n",
       "       0.76009615, 0.92660256, 0.59686807, 0.87908839, 0.47616946,\n",
       "       0.58814016, 0.27107626, 0.22172661, 0.6279997 , 0.5700438 ,\n",
       "       0.4828135 , 0.68730199, 0.40534226, 0.732272  , 0.31437854,\n",
       "       0.85667724, 0.67915872, 0.94374999, 0.44837641, 0.83041559,\n",
       "       0.93346549, 0.49277067, 0.35195404, 0.31029193, 0.78671856,\n",
       "       0.59795948, 0.6174892 , 0.30155154, 0.38559393, 0.4607295 ,\n",
       "       0.21949235, 0.24610387, 0.76061174, 0.84707005, 0.70231049,\n",
       "       0.52482364, 0.86178196, 0.01790569, 0.7407482 , 0.61092717,\n",
       "       0.21974181, 0.08682148, 0.44475425, 0.71258413, 0.30329161,\n",
       "       0.00253733, 0.96987989, 0.1991555 , 0.71328684, 0.66727012,\n",
       "       0.76265434, 0.82361842, 0.54021459, 0.37980963, 0.71075334,\n",
       "       0.20571264, 0.62195084, 0.6532614 , 0.60893259, 0.35809355,\n",
       "       0.83321185, 0.21755737, 0.73549177, 0.5188361 , 0.04284443,\n",
       "       0.6074945 , 0.2706098 , 0.95970436, 0.99728249, 0.15632228,\n",
       "       0.67331755, 0.99043067, 0.36055799, 0.11880684, 0.918216  ,\n",
       "       0.64283427, 0.81848229, 0.07173135, 0.58626741, 0.51173417,\n",
       "       0.74396452, 0.69852499, 0.80913816, 0.93188537, 0.04612456,\n",
       "       0.54067435, 0.11006162, 0.18735553, 0.40986399, 0.80070207,\n",
       "       0.48870572, 0.13663428, 0.98822183, 0.39964507, 0.51901506,\n",
       "       0.05852167, 0.38338081, 0.28596219, 0.50647776, 0.47361173,\n",
       "       0.30431438, 0.03091689, 0.68681892, 0.20180318, 0.11706147,\n",
       "       0.92773307, 0.16041814, 0.65617796, 0.56156665, 0.08679687,\n",
       "       0.25112097, 0.43775573, 0.96753091, 0.75033047, 0.19112095,\n",
       "       0.2902062 , 0.01349732, 0.63766932, 0.69297731, 0.35903376,\n",
       "       0.35529592, 0.7492295 , 0.0781212 , 0.83947953, 0.47319898,\n",
       "       0.08982315, 0.70210531, 0.69213093, 0.31105949, 0.59640901,\n",
       "       0.12625795, 0.23770434, 0.1507505 , 0.34107824, 0.49274056,\n",
       "       0.01133892, 0.9879064 , 0.20407017, 0.6622267 , 0.17612033,\n",
       "       0.83641522, 0.53456857, 0.07460189, 0.43797951, 0.45610148,\n",
       "       0.6182184 , 0.76198086, 0.93282798, 0.80004327, 0.90121121,\n",
       "       0.00291641, 0.15694735, 0.48763157, 0.83987377, 0.23885253,\n",
       "       0.13883416, 0.34154436, 0.51518491, 0.08157992, 0.68812509,\n",
       "       0.62200528, 0.73857225, 0.16920651, 0.79331399, 0.66986881,\n",
       "       0.92969063, 0.83017529, 0.58836508, 0.67158862, 0.29993273,\n",
       "       0.38010738, 0.37835299, 0.72357307, 0.95385183, 0.88450559,\n",
       "       0.00772711, 0.08752977, 0.90971736, 0.44710842, 0.15856617,\n",
       "       0.53938688, 0.86384923, 0.21140481, 0.77212481, 0.85294988,\n",
       "       0.79646932, 0.97599229, 0.69557699, 0.65443068, 0.67470656,\n",
       "       0.12729115, 0.11177025, 0.09904853, 0.33797818, 0.94924292,\n",
       "       0.15869417, 0.47631187, 0.59824279, 0.73483529, 0.22200983,\n",
       "       0.37184212, 0.71004688, 0.10932383, 0.19019613, 0.13459286,\n",
       "       0.03899721, 0.71077793, 0.518798  , 0.81913945, 0.03653175,\n",
       "       0.17894591, 0.91959215, 0.38981398, 0.45149327, 0.15560892,\n",
       "       0.72364812, 0.25503551, 0.19348571, 0.39466603, 0.44115028,\n",
       "       0.44950211, 0.48815041, 0.78538515, 0.11668278, 0.14552185,\n",
       "       0.50646209, 0.14112585, 0.90607695, 0.73153404, 0.68283652,\n",
       "       0.48843184, 0.19428611, 0.86031657, 0.27623778, 0.23045376,\n",
       "       0.91942189, 0.97164595, 0.24186017, 0.31938613, 0.22945149,\n",
       "       0.72770877, 0.81444351, 0.80849581, 0.48888614, 0.48969867,\n",
       "       0.88262762, 0.63237167, 0.7993672 , 0.6422767 , 0.42428929,\n",
       "       0.19149122, 0.71006534, 0.2855838 , 0.51980021, 0.03556073,\n",
       "       0.30554127, 0.45058935, 0.48693224, 0.75869083, 0.40323559,\n",
       "       0.95226263, 0.42354574, 0.01069831, 0.92257273, 0.89414225,\n",
       "       0.34466089, 0.589833  , 0.86338053, 0.14026783, 0.78235523,\n",
       "       0.03509411, 0.27058547, 0.60806072, 0.43328842, 0.25835507,\n",
       "       0.52468024, 0.58708572, 0.02321645, 0.72389886, 0.88543417,\n",
       "       0.96352819, 0.82133054, 0.24746331, 0.54988349, 0.9776969 ,\n",
       "       0.28464622, 0.48473923, 0.58537491, 0.88936633, 0.8846222 ,\n",
       "       0.54584028, 0.88655788, 0.56061083, 0.79494181, 0.87465268,\n",
       "       0.10658867, 0.36934328, 0.06269656, 0.8009532 , 0.27870508,\n",
       "       0.4727608 , 0.5483658 , 0.79621332, 0.3598443 , 0.97827284,\n",
       "       0.37697834, 0.71961089, 0.47247618, 0.64519397, 0.37471987,\n",
       "       0.52411338, 0.99455176, 0.00839558, 0.37703181, 0.00728142,\n",
       "       0.9994646 , 0.29359771, 0.55006339, 0.4630905 , 0.91571896,\n",
       "       0.44985078, 0.90805998, 0.18102379, 0.10021355, 0.16129814,\n",
       "       0.6616599 , 0.12977676, 0.80246169, 0.12234436, 0.79155986,\n",
       "       0.51735019, 0.40374071, 0.08232033, 0.58575907, 0.09900639,\n",
       "       0.41673773, 0.66104074, 0.03582583, 0.20104621, 0.23997187,\n",
       "       0.69617284, 0.40833938, 0.41579664, 0.5080761 , 0.07397268,\n",
       "       0.27136326, 0.58737012, 0.28830865, 0.83404363, 0.07954228,\n",
       "       0.7799634 , 0.5822502 , 0.06430909, 0.40209458, 0.41783697,\n",
       "       0.45885755, 0.54663105, 0.11702186, 0.91758681, 0.57365047,\n",
       "       0.67436392, 0.55330377, 0.06168392, 0.56805354, 0.66195466])"
      ]
     },
     "execution_count": 52,
     "metadata": {},
     "output_type": "execute_result"
    }
   ],
   "source": [
    "B"
   ]
  },
  {
   "cell_type": "code",
   "execution_count": 53,
   "metadata": {},
   "outputs": [
    {
     "data": {
      "text/plain": [
       "493.910430516487"
      ]
     },
     "execution_count": 53,
     "metadata": {},
     "output_type": "execute_result"
    }
   ],
   "source": [
    "np.sum(B)"
   ]
  },
  {
   "cell_type": "code",
   "execution_count": null,
   "metadata": {},
   "outputs": [],
   "source": []
  }
 ],
 "metadata": {
  "kernelspec": {
   "display_name": "Python 3",
   "language": "python",
   "name": "python3"
  },
  "language_info": {
   "codemirror_mode": {
    "name": "ipython",
    "version": 3
   },
   "file_extension": ".py",
   "mimetype": "text/x-python",
   "name": "python",
   "nbconvert_exporter": "python",
   "pygments_lexer": "ipython3",
   "version": "3.7.6"
  }
 },
 "nbformat": 4,
 "nbformat_minor": 4
}
